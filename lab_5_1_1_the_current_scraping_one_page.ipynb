{
 "cells": [
  {
   "cell_type": "markdown",
   "metadata": {},
   "source": [
    "# Case Study - The Current\n",
    "\n",
    "* The Current is an alternative radio station\n",
    "* We will pull information about the play list."
   ]
  },
  {
   "cell_type": "markdown",
   "metadata": {},
   "source": [
    "# Step 0 - Inspect the following page\n",
    "\n",
    "* Song title\n",
    "* Artist\n",
    "* Play time\n",
    "* Day, date, period (am/pm)\n",
    "\n",
    "http://www.thecurrent.org/playlist/2014-01-01/01"
   ]
  },
  {
   "cell_type": "code",
   "execution_count": 33,
   "metadata": {
    "scrolled": true
   },
   "outputs": [],
   "source": [
    "from composablesoup import find, find_all, get_text, has_attr\n",
    "from composable.sequence import slice, head\n",
    "from composable.strict import map, filter\n",
    "from composable.string import replace\n",
    "from composable import from_toolz as tlz\n",
    "import requests\n",
    "from bs4 import BeautifulSoup\n",
    "from composable.string import split\n",
    "from composable import pipeable\n",
    "import re\n",
    "from composablesoup.soup import find_parent, parents, children, find_previous_sibling, find_previous_siblings\n",
    "from composablesoup.soup import find_next_sibling, find_next_siblings, find_previous_sibling"
   ]
  },
  {
   "cell_type": "code",
   "execution_count": 2,
   "metadata": {
    "scrolled": false
   },
   "outputs": [],
   "source": [
    "s = requests.Session() # Start a session\n",
    "r = s.get('https://www.thecurrent.org/playlist/2020-10-14/01') # Get a static page\n",
    "the_current_radio = BeautifulSoup(r.content, \"html.parser\")"
   ]
  },
  {
   "cell_type": "markdown",
   "metadata": {},
   "source": [
    "# Step 1 - Pull off the period of the day (am/pm)\n",
    "\n",
    "Pull out the \"am\"/\"pm\"\n",
    "\n",
    "1. Inspect the element\n",
    "2. Identify the html tag and class\n",
    "3. Search the soup\n",
    "    1. There should be one item returned\n",
    "4. Use soup\\string methods to pull out the info"
   ]
  },
  {
   "cell_type": "code",
   "execution_count": 3,
   "metadata": {
    "scrolled": true
   },
   "outputs": [
    {
     "data": {
      "text/plain": [
       "'am'"
      ]
     },
     "execution_count": 3,
     "metadata": {},
     "output_type": "execute_result"
    }
   ],
   "source": [
    "strip = pipeable(lambda s: s.strip())\n",
    "(the_current_radio\n",
    " >> find('span', attrs = {'class':'hour-header'})\n",
    " >> get_text\n",
    " >> strip\n",
    " >> split(' ')\n",
    " >> tlz.get(1)\n",
    ")"
   ]
  },
  {
   "cell_type": "code",
   "execution_count": 4,
   "metadata": {
    "scrolled": true
   },
   "outputs": [],
   "source": [
    "get_time_period = pipeable(lambda soup: soup\n",
    "                           >> find('span', attrs = {'class':'hour-header'})\n",
    "                           >> get_text\n",
    "                           >> strip\n",
    "                           >> split(' ')\n",
    "                           >> tlz.get(1)\n",
    "                          )"
   ]
  },
  {
   "cell_type": "code",
   "execution_count": 79,
   "metadata": {
    "scrolled": true
   },
   "outputs": [
    {
     "data": {
      "text/plain": [
       "'am'"
      ]
     },
     "execution_count": 79,
     "metadata": {},
     "output_type": "execute_result"
    }
   ],
   "source": [
    "the_current_radio >> get_time_period"
   ]
  },
  {
   "cell_type": "markdown",
   "metadata": {},
   "source": [
    "# Step 2 - Pull off DJ\n",
    "\n",
    "Use a similar process to pull off the DJ.\n"
   ]
  },
  {
   "cell_type": "code",
   "execution_count": 6,
   "metadata": {
    "scrolled": true
   },
   "outputs": [
    {
     "data": {
      "text/plain": [
       "'DJ: Jade'"
      ]
     },
     "execution_count": 6,
     "metadata": {},
     "output_type": "execute_result"
    }
   ],
   "source": [
    "(the_current_radio\n",
    " >> find('h5', attrs = {'class':'currentDj'})\n",
    " >> get_text\n",
    ")"
   ]
  },
  {
   "cell_type": "code",
   "execution_count": 7,
   "metadata": {
    "scrolled": true
   },
   "outputs": [],
   "source": [
    "get_dj = pipeable(lambda soup: soup\n",
    "                      >> find('h5', attrs = {'class':'currentDj'})\n",
    "                      >> get_text\n",
    "                     )"
   ]
  },
  {
   "cell_type": "code",
   "execution_count": 80,
   "metadata": {
    "scrolled": true
   },
   "outputs": [
    {
     "data": {
      "text/plain": [
       "'DJ: Jade'"
      ]
     },
     "execution_count": 80,
     "metadata": {},
     "output_type": "execute_result"
    }
   ],
   "source": [
    "the_current_radio >> get_dj"
   ]
  },
  {
   "cell_type": "markdown",
   "metadata": {},
   "source": [
    "# Step 3 - Pull out the day of the week\n",
    "\n",
    "* Pull out the day of the week"
   ]
  },
  {
   "cell_type": "code",
   "execution_count": 9,
   "metadata": {
    "scrolled": true
   },
   "outputs": [
    {
     "data": {
      "text/plain": [
       "'Wednesday'"
      ]
     },
     "execution_count": 9,
     "metadata": {},
     "output_type": "execute_result"
    }
   ],
   "source": [
    "(the_current_radio\n",
    " >> find('a', attrs = {'class':'start-picker'})\n",
    " >> get_text\n",
    " >> split(',')\n",
    " >> tlz.get(0)\n",
    ")"
   ]
  },
  {
   "cell_type": "code",
   "execution_count": 10,
   "metadata": {
    "scrolled": true
   },
   "outputs": [],
   "source": [
    "get_day = pipeable(lambda soup: soup\n",
    "                   >> find('a', attrs = {'class':'start-picker'})\n",
    "                   >> get_text\n",
    "                   >> split(',')\n",
    "                   >> tlz.get(0)\n",
    "                  )"
   ]
  },
  {
   "cell_type": "code",
   "execution_count": 81,
   "metadata": {
    "scrolled": true
   },
   "outputs": [
    {
     "data": {
      "text/plain": [
       "'Wednesday'"
      ]
     },
     "execution_count": 81,
     "metadata": {},
     "output_type": "execute_result"
    }
   ],
   "source": [
    "the_current_radio >> get_day"
   ]
  },
  {
   "cell_type": "markdown",
   "metadata": {},
   "source": [
    "# Title of each song\n",
    "\n",
    "1. Inspect the element\n",
    "2. Identify the html tag and class\n",
    "3. Use `find_all` to make a list of all relevant tags\n",
    "4. Pull off an example case\n",
    "5. Write a function to pull out the title\n",
    "6. Write a single pipe to convert the original soup into a list of titles. \n",
    "7. Verify you have the right number of titles.\n",
    "8. Package the pipe in a function named `get_title`"
   ]
  },
  {
   "cell_type": "code",
   "execution_count": 12,
   "metadata": {
    "scrolled": true
   },
   "outputs": [
    {
     "data": {
      "text/plain": [
       "['The Heart Is A Muscle',\n",
       " 'In My Place',\n",
       " 'Help Me',\n",
       " 'AUATC',\n",
       " 'I Remember You',\n",
       " 'March March',\n",
       " 'May',\n",
       " 'Rooftop Dancing',\n",
       " 'Having a Party (Live)',\n",
       " 'Bad Decisions',\n",
       " 'Figure It Out',\n",
       " 'Thickfreakness',\n",
       " 'Letting Me Down',\n",
       " 'Gone Daddy Gone',\n",
       " 'Be an Astronaut',\n",
       " 'Guess Again']"
      ]
     },
     "execution_count": 12,
     "metadata": {},
     "output_type": "execute_result"
    }
   ],
   "source": [
    "(the_current_radio\n",
    " >> find_all('h5', attrs = {'class':'title'})\n",
    " >> map(get_text)\n",
    ")"
   ]
  },
  {
   "cell_type": "code",
   "execution_count": 13,
   "metadata": {
    "scrolled": true
   },
   "outputs": [],
   "source": [
    "get_title = pipeable(lambda soup: soup\n",
    "                     >> find_all('h5', attrs = {'class':'title'})\n",
    "                     >> map(get_text)\n",
    "                    )"
   ]
  },
  {
   "cell_type": "code",
   "execution_count": 82,
   "metadata": {
    "scrolled": true
   },
   "outputs": [
    {
     "data": {
      "text/plain": [
       "['The Heart Is A Muscle',\n",
       " 'In My Place',\n",
       " 'Help Me',\n",
       " 'AUATC',\n",
       " 'I Remember You',\n",
       " 'March March',\n",
       " 'May',\n",
       " 'Rooftop Dancing',\n",
       " 'Having a Party (Live)',\n",
       " 'Bad Decisions',\n",
       " 'Figure It Out',\n",
       " 'Thickfreakness',\n",
       " 'Letting Me Down',\n",
       " 'Gone Daddy Gone',\n",
       " 'Be an Astronaut',\n",
       " 'Guess Again']"
      ]
     },
     "execution_count": 82,
     "metadata": {},
     "output_type": "execute_result"
    }
   ],
   "source": [
    "the_current_radio >> get_title"
   ]
  },
  {
   "cell_type": "markdown",
   "metadata": {},
   "source": [
    "# Pull off the name of the artist\n",
    "\n",
    "1. Inspect the element\n",
    "2. Identify the html tag and class\n",
    "3. Use `find_all` to make a list of all relevant tags\n",
    "4. Pull off an example case\n",
    "5. Write a function to pull out the artist\n",
    "6. Write a single pipe to convert the original soup into a list of artists. \n",
    "7. Verify you have the right number of artists.\n",
    "8. Package the pipe in a function named `get_artist`\n"
   ]
  },
  {
   "cell_type": "code",
   "execution_count": 15,
   "metadata": {
    "scrolled": true
   },
   "outputs": [
    {
     "data": {
      "text/plain": [
       "['Gang of Youths',\n",
       " 'Coldplay',\n",
       " 'Low Cut Connie',\n",
       " 'Bon Iver',\n",
       " 'Ramones',\n",
       " 'The Chicks',\n",
       " 'Lupin',\n",
       " 'Sylvan Esso',\n",
       " 'Sam Cooke',\n",
       " 'The Strokes',\n",
       " 'Blu DeTiger',\n",
       " 'The Black Keys',\n",
       " 'Margo Price',\n",
       " 'Violent Femmes',\n",
       " 'Declan McKenna',\n",
       " 'Jeff Tweedy']"
      ]
     },
     "execution_count": 15,
     "metadata": {},
     "output_type": "execute_result"
    }
   ],
   "source": [
    "(the_current_radio\n",
    " >> find_all('h5', attrs = {'class':'artist'})\n",
    " >> map(get_text)\n",
    ")"
   ]
  },
  {
   "cell_type": "code",
   "execution_count": 16,
   "metadata": {
    "scrolled": true
   },
   "outputs": [],
   "source": [
    "get_artist = pipeable(lambda soup: soup\n",
    "                      >> find_all('h5', attrs = {'class':'artist'})\n",
    "                      >> map(get_text)\n",
    "                     )"
   ]
  },
  {
   "cell_type": "code",
   "execution_count": 83,
   "metadata": {
    "scrolled": true
   },
   "outputs": [
    {
     "data": {
      "text/plain": [
       "['Gang of Youths',\n",
       " 'Coldplay',\n",
       " 'Low Cut Connie',\n",
       " 'Bon Iver',\n",
       " 'Ramones',\n",
       " 'The Chicks',\n",
       " 'Lupin',\n",
       " 'Sylvan Esso',\n",
       " 'Sam Cooke',\n",
       " 'The Strokes',\n",
       " 'Blu DeTiger',\n",
       " 'The Black Keys',\n",
       " 'Margo Price',\n",
       " 'Violent Femmes',\n",
       " 'Declan McKenna',\n",
       " 'Jeff Tweedy']"
      ]
     },
     "execution_count": 83,
     "metadata": {},
     "output_type": "execute_result"
    }
   ],
   "source": [
    "the_current_radio >> get_artist"
   ]
  },
  {
   "cell_type": "markdown",
   "metadata": {},
   "source": [
    "Bringing over the necessary functions from 5_1_2"
   ]
  },
  {
   "cell_type": "code",
   "execution_count": 31,
   "metadata": {},
   "outputs": [],
   "source": [
    "time = re.compile('#song\\d+')\n",
    "get_start_time = pipeable(lambda soup: soup\n",
    "                          >> find_all('a', attrs = {'href':time})\n",
    "                          >> map(children)\n",
    "                          >> map(tlz.get(1))\n",
    "                          >> map(get_text)\n",
    "                          >> map(split(' '))\n",
    "                          >> map(tlz.get(2))\n",
    "                         )"
   ]
  },
  {
   "cell_type": "code",
   "execution_count": 84,
   "metadata": {},
   "outputs": [
    {
     "data": {
      "text/plain": [
       "['1:57',\n",
       " '1:53',\n",
       " '1:50',\n",
       " '1:47',\n",
       " '1:45',\n",
       " '1:41',\n",
       " '1:37',\n",
       " '1:33',\n",
       " '1:28',\n",
       " '1:24',\n",
       " '1:21',\n",
       " '1:16',\n",
       " '1:13',\n",
       " '1:09',\n",
       " '1:05',\n",
       " '1:01']"
      ]
     },
     "execution_count": 84,
     "metadata": {},
     "output_type": "execute_result"
    }
   ],
   "source": [
    "the_current_radio >> get_start_time"
   ]
  },
  {
   "cell_type": "code",
   "execution_count": 26,
   "metadata": {},
   "outputs": [],
   "source": [
    "get_src = pipeable(lambda src: src >> tlz.get('data-src') \n",
    "                               if (src >> tlz.get('src')) == '' \n",
    "                               else src >> tlz.get('src'))\n",
    "get_album_art = pipeable(lambda soup: soup\n",
    "                          >> find_all('img', attrs = {'class':'album-art'})\n",
    "                          >> map(get_src)\n",
    "                         )"
   ]
  },
  {
   "cell_type": "code",
   "execution_count": 85,
   "metadata": {},
   "outputs": [
    {
     "data": {
      "text/plain": [
       "['https://albumart.publicradio.org/mb/1e/1ea97022-27ba-4bf5-8ab5-4ae76836e1c1_03df.jpg',\n",
       " 'https://albumart.publicradio.org/mb/12/120c786d-a3b2-3c19-b4ff-2b7b3b4435bf_6f33.jpg',\n",
       " '/assets/album-cover-default-32217dc68a771f3a44aa2b7a640cf91133b61bd1f2ae68c9ddb00055e9a8ac1d.png',\n",
       " '/assets/album-cover-default-32217dc68a771f3a44aa2b7a640cf91133b61bd1f2ae68c9ddb00055e9a8ac1d.png',\n",
       " 'https://albumart.publicradio.org/mb/bc/bc3b5116-300a-3696-919d-bca466a3f143_e813.jpg',\n",
       " 'https://albumart.publicradio.org/mb/fe/feeac938-9cb1-4e36-9b98-4ec2ad9a65c3_1a08.jpg',\n",
       " 'https://albumart.publicradio.org/mb/16/1608212a-558a-4d20-bc01-3fc8b82e6058_6f10.jpg',\n",
       " '/assets/album-cover-default-32217dc68a771f3a44aa2b7a640cf91133b61bd1f2ae68c9ddb00055e9a8ac1d.png',\n",
       " '/assets/album-cover-default-32217dc68a771f3a44aa2b7a640cf91133b61bd1f2ae68c9ddb00055e9a8ac1d.png',\n",
       " '/assets/album-cover-default-32217dc68a771f3a44aa2b7a640cf91133b61bd1f2ae68c9ddb00055e9a8ac1d.png',\n",
       " 'https://albumart.publicradio.org/mb/9c/9c8f9285-5f2a-40b3-b2e1-e64905d1e562_b977.jpg',\n",
       " 'https://albumart.publicradio.org/mb/35/35bacad8-4327-33f2-9e7a-3a69721ca707_3453.jpg',\n",
       " '/assets/album-cover-default-32217dc68a771f3a44aa2b7a640cf91133b61bd1f2ae68c9ddb00055e9a8ac1d.png',\n",
       " 'https://albumart.publicradio.org/mb/61/616a1d80-83d0-3234-bf71-fe3de8109f99_1115.jpg',\n",
       " 'https://albumart.publicradio.org/mb/c7/c7d38d5f-b4a6-41d1-9805-f119a9c8d68d_2897.jpg',\n",
       " '/assets/album-cover-default-32217dc68a771f3a44aa2b7a640cf91133b61bd1f2ae68c9ddb00055e9a8ac1d.png']"
      ]
     },
     "execution_count": 85,
     "metadata": {},
     "output_type": "execute_result"
    }
   ],
   "source": [
    "the_current_radio >> get_album_art"
   ]
  },
  {
   "cell_type": "markdown",
   "metadata": {},
   "source": [
    "# Putting it all together\n",
    "\n",
    "* Make a function for each of the previous steps\n",
    "* Make an overall function\n",
    "    * input is a soup\n",
    "    * output is a list of lists\n",
    "\n",
    "**Hint:** You should use `zip` to put all the information together."
   ]
  },
  {
   "cell_type": "code",
   "execution_count": 77,
   "metadata": {},
   "outputs": [],
   "source": [
    "#'playing around'\n",
    "#list1 = list(zip([time_period], [dj_name], [day_of_week]))\n",
    "#list2 = list(zip(song_title, artist_name, start_time, album_art))\n",
    "#list(zip(list1,list2))\n",
    "\n",
    "#list(data) for data in (zip(titles, artists, times, arts))\n",
    "#get_title, get_artist, get_day, get_dj, get_time_period\n",
    "#get_header = pipeable(lambda soup: list(zip([soup >> get_time_period],\n",
    "#                                            [soup >> get_dj],\n",
    "#                                            [soup >> get_day]\n",
    "#                                           )))\n",
    "#header_info = pipeable(lambda soup: list(soup.insert(0, get_header)))"
   ]
  },
  {
   "cell_type": "code",
   "execution_count": 86,
   "metadata": {},
   "outputs": [
    {
     "data": {
      "text/plain": [
       "([('am', 'DJ: Jade', 'Wednesday')],\n",
       " [('The Heart Is A Muscle',\n",
       "   'Gang of Youths',\n",
       "   '1:57',\n",
       "   'https://albumart.publicradio.org/mb/1e/1ea97022-27ba-4bf5-8ab5-4ae76836e1c1_03df.jpg'),\n",
       "  ('In My Place',\n",
       "   'Coldplay',\n",
       "   '1:53',\n",
       "   'https://albumart.publicradio.org/mb/12/120c786d-a3b2-3c19-b4ff-2b7b3b4435bf_6f33.jpg'),\n",
       "  ('Help Me',\n",
       "   'Low Cut Connie',\n",
       "   '1:50',\n",
       "   '/assets/album-cover-default-32217dc68a771f3a44aa2b7a640cf91133b61bd1f2ae68c9ddb00055e9a8ac1d.png'),\n",
       "  ('AUATC',\n",
       "   'Bon Iver',\n",
       "   '1:47',\n",
       "   '/assets/album-cover-default-32217dc68a771f3a44aa2b7a640cf91133b61bd1f2ae68c9ddb00055e9a8ac1d.png'),\n",
       "  ('I Remember You',\n",
       "   'Ramones',\n",
       "   '1:45',\n",
       "   'https://albumart.publicradio.org/mb/bc/bc3b5116-300a-3696-919d-bca466a3f143_e813.jpg'),\n",
       "  ('March March',\n",
       "   'The Chicks',\n",
       "   '1:41',\n",
       "   'https://albumart.publicradio.org/mb/fe/feeac938-9cb1-4e36-9b98-4ec2ad9a65c3_1a08.jpg'),\n",
       "  ('May',\n",
       "   'Lupin',\n",
       "   '1:37',\n",
       "   'https://albumart.publicradio.org/mb/16/1608212a-558a-4d20-bc01-3fc8b82e6058_6f10.jpg'),\n",
       "  ('Rooftop Dancing',\n",
       "   'Sylvan Esso',\n",
       "   '1:33',\n",
       "   '/assets/album-cover-default-32217dc68a771f3a44aa2b7a640cf91133b61bd1f2ae68c9ddb00055e9a8ac1d.png'),\n",
       "  ('Having a Party (Live)',\n",
       "   'Sam Cooke',\n",
       "   '1:28',\n",
       "   '/assets/album-cover-default-32217dc68a771f3a44aa2b7a640cf91133b61bd1f2ae68c9ddb00055e9a8ac1d.png'),\n",
       "  ('Bad Decisions',\n",
       "   'The Strokes',\n",
       "   '1:24',\n",
       "   '/assets/album-cover-default-32217dc68a771f3a44aa2b7a640cf91133b61bd1f2ae68c9ddb00055e9a8ac1d.png'),\n",
       "  ('Figure It Out',\n",
       "   'Blu DeTiger',\n",
       "   '1:21',\n",
       "   'https://albumart.publicradio.org/mb/9c/9c8f9285-5f2a-40b3-b2e1-e64905d1e562_b977.jpg'),\n",
       "  ('Thickfreakness',\n",
       "   'The Black Keys',\n",
       "   '1:16',\n",
       "   'https://albumart.publicradio.org/mb/35/35bacad8-4327-33f2-9e7a-3a69721ca707_3453.jpg'),\n",
       "  ('Letting Me Down',\n",
       "   'Margo Price',\n",
       "   '1:13',\n",
       "   '/assets/album-cover-default-32217dc68a771f3a44aa2b7a640cf91133b61bd1f2ae68c9ddb00055e9a8ac1d.png'),\n",
       "  ('Gone Daddy Gone',\n",
       "   'Violent Femmes',\n",
       "   '1:09',\n",
       "   'https://albumart.publicradio.org/mb/61/616a1d80-83d0-3234-bf71-fe3de8109f99_1115.jpg'),\n",
       "  ('Be an Astronaut',\n",
       "   'Declan McKenna',\n",
       "   '1:05',\n",
       "   'https://albumart.publicradio.org/mb/c7/c7d38d5f-b4a6-41d1-9805-f119a9c8d68d_2897.jpg'),\n",
       "  ('Guess Again',\n",
       "   'Jeff Tweedy',\n",
       "   '1:01',\n",
       "   '/assets/album-cover-default-32217dc68a771f3a44aa2b7a640cf91133b61bd1f2ae68c9ddb00055e9a8ac1d.png')])"
      ]
     },
     "execution_count": 86,
     "metadata": {},
     "output_type": "execute_result"
    }
   ],
   "source": [
    "get_data  = pipeable(lambda soup: (list(zip([soup >> get_time_period],\n",
    "                                                        [soup >> get_dj],\n",
    "                                                        [soup >> get_day]\n",
    "                                                       )),\n",
    "                                               list(zip(soup >> get_title, \n",
    "                                                        soup >> get_artist, \n",
    "                                                        soup >> get_start_time, \n",
    "                                                        soup >> get_album_art\n",
    "                                                        ))))\n",
    "the_current_radio >> get_data"
   ]
  }
 ],
 "metadata": {
  "anaconda-cloud": {},
  "kernelspec": {
   "display_name": "Python 3",
   "language": "python",
   "name": "python3"
  },
  "language_info": {
   "codemirror_mode": {
    "name": "ipython",
    "version": 3
   },
   "file_extension": ".py",
   "mimetype": "text/x-python",
   "name": "python",
   "nbconvert_exporter": "python",
   "pygments_lexer": "ipython3",
   "version": "3.7.6"
  }
 },
 "nbformat": 4,
 "nbformat_minor": 1
}
